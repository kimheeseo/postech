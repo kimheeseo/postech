{
  "nbformat": 4,
  "nbformat_minor": 0,
  "metadata": {
    "colab": {
      "provenance": [],
      "collapsed_sections": [],
      "authorship_tag": "ABX9TyNJYbYO7j9wY0Jkf/n6r0O2",
      "include_colab_link": true
    },
    "kernelspec": {
      "name": "python3",
      "display_name": "Python 3"
    },
    "language_info": {
      "name": "python"
    }
  },
  "cells": [
    {
      "cell_type": "markdown",
      "metadata": {
        "id": "view-in-github",
        "colab_type": "text"
      },
      "source": [
        "<a href=\"https://colab.research.google.com/github/kimheeseo/2022_Efficient-ML/blob/main/proposed_masking.ipynb\" target=\"_parent\"><img src=\"https://colab.research.google.com/assets/colab-badge.svg\" alt=\"Open In Colab\"/></a>"
      ]
    },
    {
      "cell_type": "code",
      "execution_count": null,
      "metadata": {
        "colab": {
          "base_uri": "https://localhost:8080/"
        },
        "id": "maPuuv9cURcI",
        "outputId": "ae5e3078-7fb3-453f-8fcd-4c809837a62d"
      },
      "outputs": [
        {
          "output_type": "stream",
          "name": "stdout",
          "text": [
            "matirx H값 \n",
            " [[1 0 1 1 1 0 0]\n",
            " [0 1 0 1 1 1 0]\n",
            " [0 0 1 0 1 1 1]]\n"
          ]
        }
      ],
      "source": [
        "import numpy as np\n",
        "H=np.matrix(([1,0,1,1,1,0,0],[0,1,0,1,1,1,0],[0,0,1,0,1,1,1]))\n",
        "print('matirx H값 \\n',H)"
      ]
    },
    {
      "cell_type": "code",
      "source": [
        "pyplot.figure(figsize=(3,7))\n",
        "pyplot.imshow(H)\n",
        "pyplot.show()"
      ],
      "metadata": {
        "colab": {
          "base_uri": "https://localhost:8080/",
          "height": 120
        },
        "id": "qmJFaZ0-Kbf1",
        "outputId": "435bdafd-3487-4d21-8f46-d50044e82bd7"
      },
      "execution_count": null,
      "outputs": [
        {
          "output_type": "display_data",
          "data": {
            "text/plain": [
              "<Figure size 216x504 with 1 Axes>"
            ],
            "image/png": "[encoded data removed]"
          },
          "metadata": {
            "needs_background": "light"
          }
        }
      ]
    },
    {
      "cell_type": "code",
      "source": [
        "from matplotlib import pyplot\n",
        "[l,n]=(H.shape[0],H.shape[1])\n",
        "print('l값 :',l)\n",
        "print('n값 :',n)\n",
        "k=n-l\n",
        "print('k값 :',k)"
      ],
      "metadata": {
        "colab": {
          "base_uri": "https://localhost:8080/"
        },
        "id": "R6XS9k_9UzML",
        "outputId": "de0e19c6-6b8e-4b1b-d081-75170fcf20fe"
      },
      "execution_count": null,
      "outputs": [
        {
          "output_type": "stream",
          "name": "stdout",
          "text": [
            "l값 : 3\n",
            "n값 : 7\n",
            "k값 : 4\n"
          ]
        }
      ]
    },
    {
      "cell_type": "code",
      "source": [
        "A=2*n-k\n",
        "mask=np.eye(A,dtype=int)\n",
        "mask"
      ],
      "metadata": {
        "colab": {
          "base_uri": "https://localhost:8080/"
        },
        "id": "5MBAN_k1VNyb",
        "outputId": "5ef0f035-0338-494e-a4f4-a42e1cac9ef8"
      },
      "execution_count": null,
      "outputs": [
        {
          "output_type": "execute_result",
          "data": {
            "text/plain": [
              "array([[1, 0, 0, 0, 0, 0, 0, 0, 0, 0],\n",
              "       [0, 1, 0, 0, 0, 0, 0, 0, 0, 0],\n",
              "       [0, 0, 1, 0, 0, 0, 0, 0, 0, 0],\n",
              "       [0, 0, 0, 1, 0, 0, 0, 0, 0, 0],\n",
              "       [0, 0, 0, 0, 1, 0, 0, 0, 0, 0],\n",
              "       [0, 0, 0, 0, 0, 1, 0, 0, 0, 0],\n",
              "       [0, 0, 0, 0, 0, 0, 1, 0, 0, 0],\n",
              "       [0, 0, 0, 0, 0, 0, 0, 1, 0, 0],\n",
              "       [0, 0, 0, 0, 0, 0, 0, 0, 1, 0],\n",
              "       [0, 0, 0, 0, 0, 0, 0, 0, 0, 1]])"
            ]
          },
          "metadata": {},
          "execution_count": 152
        }
      ]
    },
    {
      "cell_type": "code",
      "source": [
        "pyplot.figure(figsize=(10,10))\n",
        "pyplot.imshow(mask)\n",
        "pyplot.show()"
      ],
      "metadata": {
        "id": "tc_G5GdxXE76",
        "outputId": "cce3ee47-600f-45c4-a1ab-8d5938f35885",
        "colab": {
          "base_uri": "https://localhost:8080/",
          "height": 592
        }
      },
      "execution_count": null,
      "outputs": [
        {
          "output_type": "display_data",
          "data": {
            "text/plain": [
              "<Figure size 720x720 with 1 Axes>"
            ],
            "image/png": "[encoded data removed]"
          },
          "metadata": {
            "needs_background": "light"
          }
        }
      ]
    },
    {
      "cell_type": "code",
      "source": [
        "AA=[2,2,2]\n",
        "for i in range(0,3):\n",
        "  AA[i]=AA[i]%2\n",
        "AA  "
      ],
      "metadata": {
        "colab": {
          "base_uri": "https://localhost:8080/"
        },
        "id": "2YcgBFvFk4nj",
        "outputId": "df533d8c-e3c9-4c78-d386-209eb057a593"
      },
      "execution_count": null,
      "outputs": [
        {
          "output_type": "execute_result",
          "data": {
            "text/plain": [
              "[0, 0, 0]"
            ]
          },
          "metadata": {},
          "execution_count": 154
        }
      ]
    },
    {
      "cell_type": "code",
      "source": [
        "print('n-k값',n-k)\n",
        "print('n값',n)\n",
        "print('k값',k)"
      ],
      "metadata": {
        "colab": {
          "base_uri": "https://localhost:8080/"
        },
        "id": "J0dAfi5smmjR",
        "outputId": "ee16b78c-238a-4f10-a082-04384773eb85"
      },
      "execution_count": null,
      "outputs": [
        {
          "output_type": "stream",
          "name": "stdout",
          "text": [
            "n-k값 3\n",
            "n값 7\n",
            "k값 4\n"
          ]
        }
      ]
    },
    {
      "cell_type": "code",
      "source": [
        "H=np.array(([1,0,1,1,1,0,0],[0,1,0,1,1,1,0],[0,0,1,0,1,1,1]))\n",
        "print('H값',H)\n",
        "print('H.shape값',H.shape)"
      ],
      "metadata": {
        "colab": {
          "base_uri": "https://localhost:8080/"
        },
        "id": "esN6IkJCZtTi",
        "outputId": "277438cf-78ba-482f-ce82-2f2a823c3717"
      },
      "execution_count": null,
      "outputs": [
        {
          "output_type": "stream",
          "name": "stdout",
          "text": [
            "H값 [[1 0 1 1 1 0 0]\n",
            " [0 1 0 1 1 1 0]\n",
            " [0 0 1 0 1 1 1]]\n",
            "H.shape값 (3, 7)\n"
          ]
        }
      ]
    },
    {
      "cell_type": "code",
      "source": [
        "i=0\n",
        "idx = np.where(H[i,:] > 0)\n",
        "print('idx값',idx)"
      ],
      "metadata": {
        "colab": {
          "base_uri": "https://localhost:8080/"
        },
        "id": "JMcacMI0KXfl",
        "outputId": "09f4ea29-0c1a-421a-ecca-f0b3a37c273c"
      },
      "execution_count": null,
      "outputs": [
        {
          "output_type": "stream",
          "name": "stdout",
          "text": [
            "idx값 (array([0, 2, 3, 4]),)\n"
          ]
        }
      ]
    },
    {
      "cell_type": "code",
      "source": [
        "for i in range(0,3):#for i in range(0,n-k) do :\n",
        "  idx = np.where(H[i,:] > 0)\n",
        "  print('idx',idx)"
      ],
      "metadata": {
        "colab": {
          "base_uri": "https://localhost:8080/"
        },
        "id": "sUqk-_O0VoCl",
        "outputId": "edc9b206-5dc7-4bfa-9671-1e0c79477ba5"
      },
      "execution_count": null,
      "outputs": [
        {
          "output_type": "stream",
          "name": "stdout",
          "text": [
            "idx (array([0, 2, 3, 4]),)\n",
            "idx (array([1, 3, 4, 5]),)\n",
            "idx (array([2, 4, 5, 6]),)\n"
          ]
        }
      ]
    },
    {
      "cell_type": "markdown",
      "source": [
        "# **i=0**"
      ],
      "metadata": {
        "id": "2m0lH9xgdtp-"
      }
    },
    {
      "cell_type": "code",
      "source": [
        "mask=np.eye(A,dtype=int)\n",
        "mask"
      ],
      "metadata": {
        "colab": {
          "base_uri": "https://localhost:8080/"
        },
        "id": "E2ymwT9Kdzya",
        "outputId": "77f7b22e-045f-48a6-ee57-683352cca6d2"
      },
      "execution_count": null,
      "outputs": [
        {
          "output_type": "execute_result",
          "data": {
            "text/plain": [
              "array([[1, 0, 0, 0, 0, 0, 0, 0, 0, 0],\n",
              "       [0, 1, 0, 0, 0, 0, 0, 0, 0, 0],\n",
              "       [0, 0, 1, 0, 0, 0, 0, 0, 0, 0],\n",
              "       [0, 0, 0, 1, 0, 0, 0, 0, 0, 0],\n",
              "       [0, 0, 0, 0, 1, 0, 0, 0, 0, 0],\n",
              "       [0, 0, 0, 0, 0, 1, 0, 0, 0, 0],\n",
              "       [0, 0, 0, 0, 0, 0, 1, 0, 0, 0],\n",
              "       [0, 0, 0, 0, 0, 0, 0, 1, 0, 0],\n",
              "       [0, 0, 0, 0, 0, 0, 0, 0, 1, 0],\n",
              "       [0, 0, 0, 0, 0, 0, 0, 0, 0, 1]])"
            ]
          },
          "metadata": {},
          "execution_count": 159
        }
      ]
    },
    {
      "cell_type": "markdown",
      "source": [
        "# **j=0**"
      ],
      "metadata": {
        "id": "tblwjeKDfBx6"
      }
    },
    {
      "cell_type": "code",
      "source": [
        "# 8 : mask[n+i,j]=mask[j,n+i]=1\n",
        "# idx = 0,2,3,4\n",
        "i=0\n",
        "n=7\n",
        "j=0\n",
        "mask[n+i,j]=mask[j,n+i]=1\n",
        "mask"
      ],
      "metadata": {
        "id": "MD__d2walzMa",
        "colab": {
          "base_uri": "https://localhost:8080/"
        },
        "outputId": "762d48ed-246f-4eba-f80d-21bdf569b98f"
      },
      "execution_count": null,
      "outputs": [
        {
          "output_type": "execute_result",
          "data": {
            "text/plain": [
              "array([[1, 0, 0, 0, 0, 0, 0, 1, 0, 0],\n",
              "       [0, 1, 0, 0, 0, 0, 0, 0, 0, 0],\n",
              "       [0, 0, 1, 0, 0, 0, 0, 0, 0, 0],\n",
              "       [0, 0, 0, 1, 0, 0, 0, 0, 0, 0],\n",
              "       [0, 0, 0, 0, 1, 0, 0, 0, 0, 0],\n",
              "       [0, 0, 0, 0, 0, 1, 0, 0, 0, 0],\n",
              "       [0, 0, 0, 0, 0, 0, 1, 0, 0, 0],\n",
              "       [1, 0, 0, 0, 0, 0, 0, 1, 0, 0],\n",
              "       [0, 0, 0, 0, 0, 0, 0, 0, 1, 0],\n",
              "       [0, 0, 0, 0, 0, 0, 0, 0, 0, 1]])"
            ]
          },
          "metadata": {},
          "execution_count": 160
        }
      ]
    },
    {
      "cell_type": "code",
      "source": [
        "# 9 : for k in idx do\n",
        "k=0\n",
        "mask[j,k]+=1\n",
        "mask[k,j]+=1\n",
        "\n",
        "k=2\n",
        "mask[j,k]+=1\n",
        "mask[k,j]+=1\n",
        "\n",
        "k=3\n",
        "mask[j,k]+=1\n",
        "mask[k,j]+=1\n",
        "\n",
        "k=4\n",
        "mask[j,k]+=1\n",
        "mask[k,j]+=1\n",
        "\n",
        "mask=mask%2\n",
        "print('mask값\\n',mask)\n",
        "\n",
        "pyplot.figure(figsize=(10,10))\n",
        "pyplot.imshow(mask)\n",
        "pyplot.show()"
      ],
      "metadata": {
        "colab": {
          "base_uri": "https://localhost:8080/",
          "height": 795
        },
        "id": "Qz6ylQIql4BH",
        "outputId": "62a75f21-43e7-43a9-a97c-7fdea9709480"
      },
      "execution_count": null,
      "outputs": [
        {
          "output_type": "stream",
          "name": "stdout",
          "text": [
            "mask값\n",
            " [[1 0 1 1 1 0 0 1 0 0]\n",
            " [0 1 0 0 0 0 0 0 0 0]\n",
            " [1 0 1 0 0 0 0 0 0 0]\n",
            " [1 0 0 1 0 0 0 0 0 0]\n",
            " [1 0 0 0 1 0 0 0 0 0]\n",
            " [0 0 0 0 0 1 0 0 0 0]\n",
            " [0 0 0 0 0 0 1 0 0 0]\n",
            " [1 0 0 0 0 0 0 1 0 0]\n",
            " [0 0 0 0 0 0 0 0 1 0]\n",
            " [0 0 0 0 0 0 0 0 0 1]]\n"
          ]
        },
        {
          "output_type": "display_data",
          "data": {
            "text/plain": [
              "<Figure size 720x720 with 1 Axes>"
            ],
            "image/png": "[encoded data removed]"
          },
          "metadata": {
            "needs_background": "light"
          }
        }
      ]
    },
    {
      "cell_type": "markdown",
      "source": [
        "# **j=2**"
      ],
      "metadata": {
        "id": "QHIRTW9sftS9"
      }
    },
    {
      "cell_type": "code",
      "source": [
        "n=7\n",
        "i=0\n",
        "j=2\n",
        "mask[n+i,j]=mask[j,n+i]=1"
      ],
      "metadata": {
        "id": "PnRx8PeeWD9O"
      },
      "execution_count": null,
      "outputs": []
    },
    {
      "cell_type": "code",
      "source": [
        "# 9 : for k in idx do\n",
        "k=0\n",
        "mask[j,k]+=1\n",
        "mask[k,j]+=1\n",
        "\n",
        "k=2\n",
        "mask[j,k]+=1\n",
        "mask[k,j]+=1\n",
        "\n",
        "k=3\n",
        "mask[j,k]+=1\n",
        "mask[k,j]+=1\n",
        "\n",
        "k=4\n",
        "mask[j,k]+=1\n",
        "mask[k,j]+=1\n",
        "\n",
        "mask=mask%2\n",
        "print('mask값\\n',mask)\n",
        "\n",
        "pyplot.figure(figsize=(10,10))\n",
        "pyplot.imshow(mask)\n",
        "pyplot.show()"
      ],
      "metadata": {
        "colab": {
          "base_uri": "https://localhost:8080/",
          "height": 795
        },
        "id": "PTgND4otOm8_",
        "outputId": "5fa96b68-49fc-4738-d0af-1481c7b38197"
      },
      "execution_count": null,
      "outputs": [
        {
          "output_type": "stream",
          "name": "stdout",
          "text": [
            "mask값\n",
            " [[1 0 0 1 1 0 0 1 0 0]\n",
            " [0 1 0 0 0 0 0 0 0 0]\n",
            " [0 0 1 1 1 0 0 1 0 0]\n",
            " [1 0 1 1 0 0 0 0 0 0]\n",
            " [1 0 1 0 1 0 0 0 0 0]\n",
            " [0 0 0 0 0 1 0 0 0 0]\n",
            " [0 0 0 0 0 0 1 0 0 0]\n",
            " [1 0 1 0 0 0 0 1 0 0]\n",
            " [0 0 0 0 0 0 0 0 1 0]\n",
            " [0 0 0 0 0 0 0 0 0 1]]\n"
          ]
        },
        {
          "output_type": "display_data",
          "data": {
            "text/plain": [
              "<Figure size 720x720 with 1 Axes>"
            ],
            "image/png": "[encoded data removed]"
          },
          "metadata": {
            "needs_background": "light"
          }
        }
      ]
    },
    {
      "cell_type": "markdown",
      "source": [
        "# **j=3**"
      ],
      "metadata": {
        "id": "mkBlCcKiguHD"
      }
    },
    {
      "cell_type": "code",
      "source": [
        "n=7\n",
        "i=0\n",
        "j=3\n",
        "mask[n+i,j]=mask[j,n+i]=1"
      ],
      "metadata": {
        "id": "SuMhRh-FS3GZ"
      },
      "execution_count": null,
      "outputs": []
    },
    {
      "cell_type": "code",
      "source": [
        "# 9 : for k in idx do\n",
        "k=0\n",
        "mask[j,k]+=1\n",
        "mask[k,j]+=1\n",
        "\n",
        "k=2\n",
        "mask[j,k]+=1\n",
        "mask[k,j]+=1\n",
        "\n",
        "k=3\n",
        "mask[j,k]+=1\n",
        "mask[k,j]+=1\n",
        "\n",
        "k=4\n",
        "mask[j,k]+=1\n",
        "mask[k,j]+=1\n",
        "\n",
        "mask=mask%2\n",
        "print('mask값\\n',mask)\n",
        "\n",
        "pyplot.figure(figsize=(10,10))\n",
        "pyplot.imshow(mask)\n",
        "pyplot.show()"
      ],
      "metadata": {
        "colab": {
          "base_uri": "https://localhost:8080/",
          "height": 795
        },
        "id": "sDitUMkLO8Qv",
        "outputId": "c087ea18-ddd0-4555-cb3a-c531b2ff620a"
      },
      "execution_count": null,
      "outputs": [
        {
          "output_type": "stream",
          "name": "stdout",
          "text": [
            "mask값\n",
            " [[1 0 0 0 1 0 0 1 0 0]\n",
            " [0 1 0 0 0 0 0 0 0 0]\n",
            " [0 0 1 0 1 0 0 1 0 0]\n",
            " [0 0 0 1 1 0 0 1 0 0]\n",
            " [1 0 1 1 1 0 0 0 0 0]\n",
            " [0 0 0 0 0 1 0 0 0 0]\n",
            " [0 0 0 0 0 0 1 0 0 0]\n",
            " [1 0 1 1 0 0 0 1 0 0]\n",
            " [0 0 0 0 0 0 0 0 1 0]\n",
            " [0 0 0 0 0 0 0 0 0 1]]\n"
          ]
        },
        {
          "output_type": "display_data",
          "data": {
            "text/plain": [
              "<Figure size 720x720 with 1 Axes>"
            ],
            "image/png": "[encoded data removed]"
          },
          "metadata": {
            "needs_background": "light"
          }
        }
      ]
    },
    {
      "cell_type": "markdown",
      "source": [
        "# **j=4**"
      ],
      "metadata": {
        "id": "9SR9c2_Xg4AQ"
      }
    },
    {
      "cell_type": "code",
      "source": [
        "n=7\n",
        "i=0\n",
        "j=4\n",
        "mask[n+i,j]=mask[j,n+i]=1"
      ],
      "metadata": {
        "id": "2CS33-MUQwDx"
      },
      "execution_count": null,
      "outputs": []
    },
    {
      "cell_type": "code",
      "source": [
        "# 9 : for k in idx do\n",
        "k=0\n",
        "mask[j,k]+=1\n",
        "mask[k,j]+=1\n",
        "\n",
        "k=2\n",
        "mask[j,k]+=1\n",
        "mask[k,j]+=1\n",
        "\n",
        "k=3\n",
        "mask[j,k]+=1\n",
        "mask[k,j]+=1\n",
        "\n",
        "k=4\n",
        "mask[j,k]+=1\n",
        "mask[k,j]+=1\n",
        "\n",
        "mask=mask%2\n",
        "print('mask값\\n',mask)\n",
        "\n",
        "pyplot.figure(figsize=(10,10))\n",
        "pyplot.imshow(mask)\n",
        "pyplot.show()"
      ],
      "metadata": {
        "colab": {
          "base_uri": "https://localhost:8080/",
          "height": 795
        },
        "id": "ovjRleaDOwzv",
        "outputId": "1b75c5bb-5b6d-43e5-fb9c-dd3f0abaa135"
      },
      "execution_count": null,
      "outputs": [
        {
          "output_type": "stream",
          "name": "stdout",
          "text": [
            "mask값\n",
            " [[1 0 0 0 0 0 0 1 0 0]\n",
            " [0 1 0 0 0 0 0 0 0 0]\n",
            " [0 0 1 0 0 0 0 1 0 0]\n",
            " [0 0 0 1 0 0 0 1 0 0]\n",
            " [0 0 0 0 1 0 0 1 0 0]\n",
            " [0 0 0 0 0 1 0 0 0 0]\n",
            " [0 0 0 0 0 0 1 0 0 0]\n",
            " [1 0 1 1 1 0 0 1 0 0]\n",
            " [0 0 0 0 0 0 0 0 1 0]\n",
            " [0 0 0 0 0 0 0 0 0 1]]\n"
          ]
        },
        {
          "output_type": "display_data",
          "data": {
            "text/plain": [
              "<Figure size 720x720 with 1 Axes>"
            ],
            "image/png": "[encoded data removed]"
          },
          "metadata": {
            "needs_background": "light"
          }
        }
      ]
    },
    {
      "cell_type": "markdown",
      "source": [
        "# **i=1, j=1**"
      ],
      "metadata": {
        "id": "TAo2jr8bhHNw"
      }
    },
    {
      "cell_type": "code",
      "source": [
        "n=7\n",
        "i=1\n",
        "j=1\n",
        "mask[n+i,j]=mask[j,n+i]=1"
      ],
      "metadata": {
        "id": "T9l8V_eEhLfF"
      },
      "execution_count": null,
      "outputs": []
    },
    {
      "cell_type": "code",
      "source": [
        "# 9 : for k in idx do\n",
        "k=1\n",
        "mask[j,k]+=1\n",
        "mask[k,j]+=1\n",
        "\n",
        "k=3\n",
        "mask[j,k]+=1\n",
        "mask[k,j]+=1\n",
        "\n",
        "k=4\n",
        "mask[j,k]+=1\n",
        "mask[k,j]+=1\n",
        "\n",
        "k=5\n",
        "mask[j,k]+=1\n",
        "mask[k,j]+=1\n",
        "\n",
        "mask=mask%2\n",
        "print('mask값\\n',mask)\n",
        "\n",
        "pyplot.figure(figsize=(10,10))\n",
        "pyplot.imshow(mask)\n",
        "pyplot.show()"
      ],
      "metadata": {
        "colab": {
          "base_uri": "https://localhost:8080/",
          "height": 795
        },
        "id": "rMEcT8bFhQco",
        "outputId": "8dce74cd-013d-4bee-d962-808732ab4ab7"
      },
      "execution_count": null,
      "outputs": [
        {
          "output_type": "stream",
          "name": "stdout",
          "text": [
            "mask값\n",
            " [[1 0 0 0 0 0 0 1 0 0]\n",
            " [0 1 0 1 1 1 0 0 1 0]\n",
            " [0 0 1 0 0 0 0 1 0 0]\n",
            " [0 1 0 1 0 0 0 1 0 0]\n",
            " [0 1 0 0 1 0 0 1 0 0]\n",
            " [0 1 0 0 0 1 0 0 0 0]\n",
            " [0 0 0 0 0 0 1 0 0 0]\n",
            " [1 0 1 1 1 0 0 1 0 0]\n",
            " [0 1 0 0 0 0 0 0 1 0]\n",
            " [0 0 0 0 0 0 0 0 0 1]]\n"
          ]
        },
        {
          "output_type": "display_data",
          "data": {
            "text/plain": [
              "<Figure size 720x720 with 1 Axes>"
            ],
            "image/png": "[encoded data removed]"
          },
          "metadata": {
            "needs_background": "light"
          }
        }
      ]
    },
    {
      "cell_type": "markdown",
      "source": [
        "# **j=3**"
      ],
      "metadata": {
        "id": "jK7ahl6zhKqP"
      }
    },
    {
      "cell_type": "code",
      "source": [
        "n=7\n",
        "j=3\n",
        "mask[n+i,j]=mask[j,n+i]=1"
      ],
      "metadata": {
        "id": "ZpZe4YEBhaXS"
      },
      "execution_count": null,
      "outputs": []
    },
    {
      "cell_type": "code",
      "source": [
        "# 9 : for k in idx do\n",
        "k=1\n",
        "mask[j,k]+=1\n",
        "mask[k,j]+=1\n",
        "\n",
        "k=3\n",
        "mask[j,k]+=1\n",
        "mask[k,j]+=1\n",
        "\n",
        "k=4\n",
        "mask[j,k]+=1\n",
        "mask[k,j]+=1\n",
        "\n",
        "k=5\n",
        "mask[j,k]+=1\n",
        "mask[k,j]+=1\n",
        "\n",
        "mask=mask%2\n",
        "print('mask값\\n',mask)\n",
        "\n",
        "pyplot.figure(figsize=(10,10))\n",
        "pyplot.imshow(mask)\n",
        "pyplot.show()"
      ],
      "metadata": {
        "colab": {
          "base_uri": "https://localhost:8080/",
          "height": 795
        },
        "id": "1LiIxOD5heXU",
        "outputId": "f82a558b-ad4b-4334-afd8-1ef0c7d7c282"
      },
      "execution_count": null,
      "outputs": [
        {
          "output_type": "stream",
          "name": "stdout",
          "text": [
            "mask값\n",
            " [[1 0 0 0 0 0 0 1 0 0]\n",
            " [0 1 0 0 1 1 0 0 1 0]\n",
            " [0 0 1 0 0 0 0 1 0 0]\n",
            " [0 0 0 1 1 1 0 1 1 0]\n",
            " [0 1 0 1 1 0 0 1 0 0]\n",
            " [0 1 0 1 0 1 0 0 0 0]\n",
            " [0 0 0 0 0 0 1 0 0 0]\n",
            " [1 0 1 1 1 0 0 1 0 0]\n",
            " [0 1 0 1 0 0 0 0 1 0]\n",
            " [0 0 0 0 0 0 0 0 0 1]]\n"
          ]
        },
        {
          "output_type": "display_data",
          "data": {
            "text/plain": [
              "<Figure size 720x720 with 1 Axes>"
            ],
            "image/png": "[encoded data removed]"
          },
          "metadata": {
            "needs_background": "light"
          }
        }
      ]
    },
    {
      "cell_type": "markdown",
      "source": [
        "# **j=4**"
      ],
      "metadata": {
        "id": "_O8NI77WhewF"
      }
    },
    {
      "cell_type": "code",
      "source": [
        "n=7\n",
        "j=4\n",
        "mask[n+i,j]=mask[j,n+i]=1"
      ],
      "metadata": {
        "id": "V635rYiEhgx1"
      },
      "execution_count": null,
      "outputs": []
    },
    {
      "cell_type": "code",
      "source": [
        "# 9 : for k in idx do\n",
        "k=1\n",
        "mask[j,k]+=1\n",
        "mask[k,j]+=1\n",
        "\n",
        "k=3\n",
        "mask[j,k]+=1\n",
        "mask[k,j]+=1\n",
        "\n",
        "k=4\n",
        "mask[j,k]+=1\n",
        "mask[k,j]+=1\n",
        "\n",
        "k=5\n",
        "mask[j,k]+=1\n",
        "mask[k,j]+=1\n",
        "\n",
        "mask=mask%2\n",
        "print('mask값\\n',mask)\n",
        "\n",
        "pyplot.figure(figsize=(10,10))\n",
        "pyplot.imshow(mask)\n",
        "pyplot.show()"
      ],
      "metadata": {
        "colab": {
          "base_uri": "https://localhost:8080/",
          "height": 795
        },
        "id": "4HUWq6wThh7b",
        "outputId": "f5e4fe04-6fc6-4f64-fd1f-52bf80c01e7d"
      },
      "execution_count": null,
      "outputs": [
        {
          "output_type": "stream",
          "name": "stdout",
          "text": [
            "mask값\n",
            " [[1 0 0 0 0 0 0 1 0 0]\n",
            " [0 1 0 0 0 1 0 0 1 0]\n",
            " [0 0 1 0 0 0 0 1 0 0]\n",
            " [0 0 0 1 0 1 0 1 1 0]\n",
            " [0 0 0 0 1 1 0 1 1 0]\n",
            " [0 1 0 1 1 1 0 0 0 0]\n",
            " [0 0 0 0 0 0 1 0 0 0]\n",
            " [1 0 1 1 1 0 0 1 0 0]\n",
            " [0 1 0 1 1 0 0 0 1 0]\n",
            " [0 0 0 0 0 0 0 0 0 1]]\n"
          ]
        },
        {
          "output_type": "display_data",
          "data": {
            "text/plain": [
              "<Figure size 720x720 with 1 Axes>"
            ],
            "image/png": "[encoded data removed]"
          },
          "metadata": {
            "needs_background": "light"
          }
        }
      ]
    },
    {
      "cell_type": "markdown",
      "source": [
        "# **j=5**"
      ],
      "metadata": {
        "id": "VmSPFW02hjuI"
      }
    },
    {
      "cell_type": "code",
      "source": [
        "n=7\n",
        "j=5\n",
        "mask[n+i,j]=mask[j,n+i]=1"
      ],
      "metadata": {
        "id": "uSwhy1lEhlbk"
      },
      "execution_count": null,
      "outputs": []
    },
    {
      "cell_type": "code",
      "source": [
        "# 9 : for k in idx do\n",
        "k=1\n",
        "mask[j,k]+=1\n",
        "mask[k,j]+=1\n",
        "\n",
        "k=3\n",
        "mask[j,k]+=1\n",
        "mask[k,j]+=1\n",
        "\n",
        "k=4\n",
        "mask[j,k]+=1\n",
        "mask[k,j]+=1\n",
        "\n",
        "k=5\n",
        "mask[j,k]+=1\n",
        "mask[k,j]+=1\n",
        "\n",
        "mask=mask%2\n",
        "print('mask값\\n',mask)\n",
        "\n",
        "pyplot.figure(figsize=(10,10))\n",
        "pyplot.imshow(mask)\n",
        "pyplot.show()"
      ],
      "metadata": {
        "colab": {
          "base_uri": "https://localhost:8080/",
          "height": 795
        },
        "id": "YEpvWsyahmd6",
        "outputId": "8df21069-18ed-44cc-cb13-2802e26a7733"
      },
      "execution_count": null,
      "outputs": [
        {
          "output_type": "stream",
          "name": "stdout",
          "text": [
            "mask값\n",
            " [[1 0 0 0 0 0 0 1 0 0]\n",
            " [0 1 0 0 0 0 0 0 1 0]\n",
            " [0 0 1 0 0 0 0 1 0 0]\n",
            " [0 0 0 1 0 0 0 1 1 0]\n",
            " [0 0 0 0 1 0 0 1 1 0]\n",
            " [0 0 0 0 0 1 0 0 1 0]\n",
            " [0 0 0 0 0 0 1 0 0 0]\n",
            " [1 0 1 1 1 0 0 1 0 0]\n",
            " [0 1 0 1 1 1 0 0 1 0]\n",
            " [0 0 0 0 0 0 0 0 0 1]]\n"
          ]
        },
        {
          "output_type": "display_data",
          "data": {
            "text/plain": [
              "<Figure size 720x720 with 1 Axes>"
            ],
            "image/png": "[encoded data removed]"
          },
          "metadata": {
            "needs_background": "light"
          }
        }
      ]
    },
    {
      "cell_type": "markdown",
      "source": [
        "# **i=2, j=2**"
      ],
      "metadata": {
        "id": "Q3SxwX_5h5Fv"
      }
    },
    {
      "cell_type": "code",
      "source": [
        "n=7\n",
        "i=2\n",
        "j=2\n",
        "mask[n+i,j]=mask[j,n+i]=1"
      ],
      "metadata": {
        "id": "OEn5nqfZiBSz"
      },
      "execution_count": null,
      "outputs": []
    },
    {
      "cell_type": "code",
      "source": [
        "# 9 : for k in idx do\n",
        "k=2\n",
        "mask[j,k]+=1\n",
        "mask[k,j]+=1\n",
        "\n",
        "k=4\n",
        "mask[j,k]+=1\n",
        "mask[k,j]+=1\n",
        "\n",
        "k=5\n",
        "mask[j,k]+=1\n",
        "mask[k,j]+=1\n",
        "\n",
        "k=6\n",
        "mask[j,k]+=1\n",
        "mask[k,j]+=1\n",
        "\n",
        "mask=mask%2\n",
        "print('mask값\\n',mask)\n",
        "\n",
        "pyplot.figure(figsize=(10,10))\n",
        "pyplot.imshow(mask)\n",
        "pyplot.show()"
      ],
      "metadata": {
        "colab": {
          "base_uri": "https://localhost:8080/",
          "height": 795
        },
        "id": "YDNXgfOdiAkI",
        "outputId": "d4af6871-6b28-4cd1-f06d-078dceea3625"
      },
      "execution_count": null,
      "outputs": [
        {
          "output_type": "stream",
          "name": "stdout",
          "text": [
            "mask값\n",
            " [[1 0 0 0 0 0 0 1 0 0]\n",
            " [0 1 0 0 0 0 0 0 1 0]\n",
            " [0 0 1 0 1 1 1 1 0 1]\n",
            " [0 0 0 1 0 0 0 1 1 0]\n",
            " [0 0 1 0 1 0 0 1 1 0]\n",
            " [0 0 1 0 0 1 0 0 1 0]\n",
            " [0 0 1 0 0 0 1 0 0 0]\n",
            " [1 0 1 1 1 0 0 1 0 0]\n",
            " [0 1 0 1 1 1 0 0 1 0]\n",
            " [0 0 1 0 0 0 0 0 0 1]]\n"
          ]
        },
        {
          "output_type": "display_data",
          "data": {
            "text/plain": [
              "<Figure size 720x720 with 1 Axes>"
            ],
            "image/png": "[encoded data removed]"
          },
          "metadata": {
            "needs_background": "light"
          }
        }
      ]
    },
    {
      "cell_type": "markdown",
      "source": [
        "# **j=4**"
      ],
      "metadata": {
        "id": "z1Z3d8WLh8VN"
      }
    },
    {
      "cell_type": "code",
      "source": [
        "n=7\n",
        "i=2\n",
        "j=4\n",
        "mask[n+i,j]=mask[j,n+i]=1"
      ],
      "metadata": {
        "id": "qUMHzKe7iIV-"
      },
      "execution_count": null,
      "outputs": []
    },
    {
      "cell_type": "code",
      "source": [
        "# 9 : for k in idx do\n",
        "k=2\n",
        "mask[j,k]+=1\n",
        "mask[k,j]+=1\n",
        "\n",
        "k=4\n",
        "mask[j,k]+=1\n",
        "mask[k,j]+=1\n",
        "\n",
        "k=5\n",
        "mask[j,k]+=1\n",
        "mask[k,j]+=1\n",
        "\n",
        "k=6\n",
        "mask[j,k]+=1\n",
        "mask[k,j]+=1\n",
        "\n",
        "mask=mask%2\n",
        "print('mask값\\n',mask)\n",
        "\n",
        "pyplot.figure(figsize=(10,10))\n",
        "pyplot.imshow(mask)\n",
        "pyplot.show()"
      ],
      "metadata": {
        "colab": {
          "base_uri": "https://localhost:8080/",
          "height": 795
        },
        "id": "H8RovdlKiJRF",
        "outputId": "53d0f016-c348-4f89-e62a-f883d13bd024"
      },
      "execution_count": null,
      "outputs": [
        {
          "output_type": "stream",
          "name": "stdout",
          "text": [
            "mask값\n",
            " [[1 0 0 0 0 0 0 1 0 0]\n",
            " [0 1 0 0 0 0 0 0 1 0]\n",
            " [0 0 1 0 0 1 1 1 0 1]\n",
            " [0 0 0 1 0 0 0 1 1 0]\n",
            " [0 0 0 0 1 1 1 1 1 1]\n",
            " [0 0 1 0 1 1 0 0 1 0]\n",
            " [0 0 1 0 1 0 1 0 0 0]\n",
            " [1 0 1 1 1 0 0 1 0 0]\n",
            " [0 1 0 1 1 1 0 0 1 0]\n",
            " [0 0 1 0 1 0 0 0 0 1]]\n"
          ]
        },
        {
          "output_type": "display_data",
          "data": {
            "text/plain": [
              "<Figure size 720x720 with 1 Axes>"
            ],
            "image/png": "[encoded data removed]"
          },
          "metadata": {
            "needs_background": "light"
          }
        }
      ]
    },
    {
      "cell_type": "markdown",
      "source": [
        "# **j=5**"
      ],
      "metadata": {
        "id": "qcM8o44riQEi"
      }
    },
    {
      "cell_type": "code",
      "source": [
        "n=7\n",
        "i=2\n",
        "j=5\n",
        "mask[n+i,j]=mask[j,n+i]=1"
      ],
      "metadata": {
        "id": "iOgcWDMjiVaA"
      },
      "execution_count": null,
      "outputs": []
    },
    {
      "cell_type": "code",
      "source": [
        "# 9 : for k in idx do\n",
        "k=2\n",
        "mask[j,k]+=1\n",
        "mask[k,j]+=1\n",
        "\n",
        "k=4\n",
        "mask[j,k]+=1\n",
        "mask[k,j]+=1\n",
        "\n",
        "k=5\n",
        "mask[j,k]+=1\n",
        "mask[k,j]+=1\n",
        "\n",
        "k=6\n",
        "mask[j,k]+=1\n",
        "mask[k,j]+=1\n",
        "\n",
        "mask=mask%2\n",
        "print('mask값\\n',mask)\n",
        "\n",
        "pyplot.figure(figsize=(10,10))\n",
        "pyplot.imshow(mask)\n",
        "pyplot.show()"
      ],
      "metadata": {
        "colab": {
          "base_uri": "https://localhost:8080/",
          "height": 795
        },
        "id": "1iGySilMiW7j",
        "outputId": "0cb2cac0-584b-4bd2-e4ca-089842c2e029"
      },
      "execution_count": null,
      "outputs": [
        {
          "output_type": "stream",
          "name": "stdout",
          "text": [
            "mask값\n",
            " [[1 0 0 0 0 0 0 1 0 0]\n",
            " [0 1 0 0 0 0 0 0 1 0]\n",
            " [0 0 1 0 0 0 1 1 0 1]\n",
            " [0 0 0 1 0 0 0 1 1 0]\n",
            " [0 0 0 0 1 0 1 1 1 1]\n",
            " [0 0 0 0 0 1 1 0 1 1]\n",
            " [0 0 1 0 1 1 1 0 0 0]\n",
            " [1 0 1 1 1 0 0 1 0 0]\n",
            " [0 1 0 1 1 1 0 0 1 0]\n",
            " [0 0 1 0 1 1 0 0 0 1]]\n"
          ]
        },
        {
          "output_type": "display_data",
          "data": {
            "text/plain": [
              "<Figure size 720x720 with 1 Axes>"
            ],
            "image/png": "[encoded data removed]"
          },
          "metadata": {
            "needs_background": "light"
          }
        }
      ]
    },
    {
      "cell_type": "markdown",
      "source": [
        "# **j=6**"
      ],
      "metadata": {
        "id": "Kx5tLd_hiQz3"
      }
    },
    {
      "cell_type": "code",
      "source": [
        "n=7\n",
        "i=2\n",
        "j=6\n",
        "mask[n+i,j]=mask[j,n+i]=1"
      ],
      "metadata": {
        "id": "wi47VLbniYi-"
      },
      "execution_count": null,
      "outputs": []
    },
    {
      "cell_type": "code",
      "source": [
        "# 9 : for k in idx do\n",
        "k=2\n",
        "mask[j,k]+=1\n",
        "mask[k,j]+=1\n",
        "\n",
        "k=4\n",
        "mask[j,k]+=1\n",
        "mask[k,j]+=1\n",
        "\n",
        "k=5\n",
        "mask[j,k]+=1\n",
        "mask[k,j]+=1\n",
        "\n",
        "k=6\n",
        "mask[j,k]+=1\n",
        "mask[k,j]+=1\n",
        "\n",
        "mask=mask%2\n",
        "print('mask값\\n',mask)\n",
        "\n",
        "pyplot.figure(figsize=(10,10))\n",
        "pyplot.imshow(mask)\n",
        "pyplot.show()"
      ],
      "metadata": {
        "colab": {
          "base_uri": "https://localhost:8080/",
          "height": 795
        },
        "id": "MTt6aqqliaNt",
        "outputId": "d729c16e-404a-4a75-9bcf-aa430fdd7193"
      },
      "execution_count": null,
      "outputs": [
        {
          "output_type": "stream",
          "name": "stdout",
          "text": [
            "mask값\n",
            " [[1 0 0 0 0 0 0 1 0 0]\n",
            " [0 1 0 0 0 0 0 0 1 0]\n",
            " [0 0 1 0 0 0 0 1 0 1]\n",
            " [0 0 0 1 0 0 0 1 1 0]\n",
            " [0 0 0 0 1 0 0 1 1 1]\n",
            " [0 0 0 0 0 1 0 0 1 1]\n",
            " [0 0 0 0 0 0 1 0 0 1]\n",
            " [1 0 1 1 1 0 0 1 0 0]\n",
            " [0 1 0 1 1 1 0 0 1 0]\n",
            " [0 0 1 0 1 1 1 0 0 1]]\n"
          ]
        },
        {
          "output_type": "display_data",
          "data": {
            "text/plain": [
              "<Figure size 720x720 with 1 Axes>"
            ],
            "image/png": "[encoded data removed]"
          },
          "metadata": {
            "needs_background": "light"
          }
        }
      ]
    }
  ]
}
