{
  "nbformat": 4,
  "nbformat_minor": 0,
  "metadata": {
    "colab": {
      "provenance": [],
      "collapsed_sections": [],
      "authorship_tag": "ABX9TyMQMPlUNJABPqeQ/mk9qBHh",
      "include_colab_link": true
    },
    "kernelspec": {
      "name": "python3",
      "display_name": "Python 3"
    },
    "language_info": {
      "name": "python"
    }
  },
  "cells": [
    {
      "cell_type": "markdown",
      "metadata": {
        "id": "view-in-github",
        "colab_type": "text"
      },
      "source": [
        "<a href=\"https://colab.research.google.com/github/kimheeseo/2022_Efficient-ML/blob/main/mask.ipynb\" target=\"_parent\"><img src=\"https://colab.research.google.com/assets/colab-badge.svg\" alt=\"Open In Colab\"/></a>"
      ]
    },
    {
      "cell_type": "code",
      "execution_count": 217,
      "metadata": {
        "colab": {
          "base_uri": "https://localhost:8080/"
        },
        "id": "3xJ2y0rAGWCz",
        "outputId": "b57190e6-2200-4019-8b15-480838b7972d"
      },
      "outputs": [
        {
          "output_type": "stream",
          "name": "stdout",
          "text": [
            "matirx H값 \n",
            " [[1 0 1 1 1 0 0]\n",
            " [0 1 0 1 1 1 0]\n",
            " [0 0 1 0 1 1 1]]\n"
          ]
        }
      ],
      "source": [
        "import numpy as np\n",
        "from matplotlib import pyplot\n",
        "H=np.matrix(([1,0,1,1,1,0,0],[0,1,0,1,1,1,0],[0,0,1,0,1,1,1]))\n",
        "print('matirx H값 \\n',H)"
      ]
    },
    {
      "cell_type": "code",
      "source": [
        "pyplot.figure(figsize=(3,7))\n",
        "pyplot.imshow(H)\n",
        "pyplot.show()"
      ],
      "metadata": {
        "colab": {
          "base_uri": "https://localhost:8080/",
          "height": 120
        },
        "id": "w_CnPZ4PGiBV",
        "outputId": "f68706ae-03f6-4bd8-a3e6-40eec3a7d089"
      },
      "execution_count": 218,
      "outputs": [
        {
          "output_type": "display_data",
          "data": {
            "text/plain": [
              "<Figure size 216x504 with 1 Axes>"
            ],
            "image/png": "[encoded data removed]"
          },
          "metadata": {
            "needs_background": "light"
          }
        }
      ]
    },
    {
      "cell_type": "code",
      "source": [
        "code_N=7\n",
        "print('cdoe_N값',code_N)\n",
        "print('H.shape(0)값',H.shape[0])"
      ],
      "metadata": {
        "colab": {
          "base_uri": "https://localhost:8080/"
        },
        "id": "lGRbbp4dHpwv",
        "outputId": "64716146-fd97-40f7-9d87-c4656fc1f704"
      },
      "execution_count": 219,
      "outputs": [
        {
          "output_type": "stream",
          "name": "stdout",
          "text": [
            "cdoe_N값 7\n",
            "H.shape(0)값 3\n"
          ]
        }
      ]
    },
    {
      "cell_type": "code",
      "source": [
        "# mask_size = code.n + code.pc_matrix.size(0)\n",
        "mask_size=code_N+H.shape[0]\n",
        "print('mask_size값',mask_size)"
      ],
      "metadata": {
        "colab": {
          "base_uri": "https://localhost:8080/"
        },
        "id": "SanI3wMwGjcB",
        "outputId": "aaaf401c-134a-447a-a5bf-2f25f8693bfe"
      },
      "execution_count": 220,
      "outputs": [
        {
          "output_type": "stream",
          "name": "stdout",
          "text": [
            "mask_size값 10\n"
          ]
        }
      ]
    },
    {
      "cell_type": "code",
      "source": [
        "#mask = torch.eye(mask_size, mask_size)\n",
        "mask=np.eye(mask_size,mask_size,dtype=int)"
      ],
      "metadata": {
        "id": "L0OXkICAH6hJ"
      },
      "execution_count": 221,
      "outputs": []
    },
    {
      "cell_type": "code",
      "source": [
        "pyplot.figure(figsize=(10,10))\n",
        "pyplot.imshow(mask)\n",
        "pyplot.show()"
      ],
      "metadata": {
        "colab": {
          "base_uri": "https://localhost:8080/",
          "height": 592
        },
        "id": "Jtg3JiepH6lz",
        "outputId": "ba6ea9c5-6853-4ba6-d733-b09821c892fa"
      },
      "execution_count": 222,
      "outputs": [
        {
          "output_type": "display_data",
          "data": {
            "text/plain": [
              "<Figure size 720x720 with 1 Axes>"
            ],
            "image/png": "[encoded data removed]"
          },
          "metadata": {
            "needs_background": "light"
          }
        }
      ]
    },
    {
      "cell_type": "code",
      "source": [
        "import torch\n",
        "print('H.shape[0]값',H.shape[0])\n",
        "\n",
        "for ii in range(H.shape[0]):\n",
        "  idx=np.where(H[ii]>0)[0]\n",
        "  for jj in idx:\n",
        "    for kk in idx:\n",
        "      if (jj!= kk).all():\n",
        "        mask[jj, kk] += 1\n",
        "        mask[kk, jj] += 1\n",
        "        mask[code_N + ii, jj] += 1\n",
        "        mask[jj, code_N + ii] += 1"
      ],
      "metadata": {
        "colab": {
          "base_uri": "https://localhost:8080/"
        },
        "id": "-jH4dXiqH6td",
        "outputId": "8dd7376e-b575-48af-e412-ccca7fbd2448"
      },
      "execution_count": 223,
      "outputs": [
        {
          "output_type": "stream",
          "name": "stdout",
          "text": [
            "H.shape[0]값 3\n"
          ]
        }
      ]
    },
    {
      "cell_type": "code",
      "source": [
        "mask"
      ],
      "metadata": {
        "colab": {
          "base_uri": "https://localhost:8080/"
        },
        "id": "DFfPWwlVI6L7",
        "outputId": "63f41ebe-7f40-4b6a-903e-0f9e8d0402b5"
      },
      "execution_count": 224,
      "outputs": [
        {
          "output_type": "execute_result",
          "data": {
            "text/plain": [
              "array([[1, 0, 0, 0, 0, 0, 0, 0, 0, 0],\n",
              "       [0, 1, 0, 0, 0, 0, 0, 0, 0, 0],\n",
              "       [0, 0, 1, 0, 0, 0, 0, 0, 0, 0],\n",
              "       [0, 0, 0, 1, 0, 0, 0, 0, 0, 0],\n",
              "       [0, 0, 0, 0, 1, 0, 0, 0, 0, 0],\n",
              "       [0, 0, 0, 0, 0, 1, 0, 0, 0, 0],\n",
              "       [0, 0, 0, 0, 0, 0, 1, 0, 0, 0],\n",
              "       [0, 0, 0, 0, 0, 0, 0, 1, 0, 0],\n",
              "       [0, 0, 0, 0, 0, 0, 0, 0, 1, 0],\n",
              "       [0, 0, 0, 0, 0, 0, 0, 0, 0, 1]])"
            ]
          },
          "metadata": {},
          "execution_count": 224
        }
      ]
    },
    {
      "cell_type": "code",
      "source": [
        "mask=mask%2\n",
        "pyplot.figure(figsize=(10,10))\n",
        "pyplot.imshow(mask)\n",
        "pyplot.show()"
      ],
      "metadata": {
        "colab": {
          "base_uri": "https://localhost:8080/",
          "height": 592
        },
        "id": "yJfSFlGaMJVA",
        "outputId": "5f4cce50-9653-484e-b105-0deb90ceb753"
      },
      "execution_count": 225,
      "outputs": [
        {
          "output_type": "display_data",
          "data": {
            "text/plain": [
              "<Figure size 720x720 with 1 Axes>"
            ],
            "image/png": "[encoded data removed]"
          },
          "metadata": {
            "needs_background": "light"
          }
        }
      ]
    },
    {
      "cell_type": "markdown",
      "source": [
        "# **pytorch**"
      ],
      "metadata": {
        "id": "MeaEl7YgNLFQ"
      }
    },
    {
      "cell_type": "code",
      "source": [
        "import torch\n",
        "code_n=7\n",
        "code_pc_matrix=torch.tensor([[1,0,1,1,1,0,0],[0,1,0,1,1,1,0],[0,0,1,0,1,1,1]])\n",
        "print(code_pc_matrix)"
      ],
      "metadata": {
        "colab": {
          "base_uri": "https://localhost:8080/"
        },
        "id": "fEoInFz7NQVc",
        "outputId": "a60e74a0-e353-4b4c-d1fb-85f2664cc736"
      },
      "execution_count": 226,
      "outputs": [
        {
          "output_type": "stream",
          "name": "stdout",
          "text": [
            "tensor([[1, 0, 1, 1, 1, 0, 0],\n",
            "        [0, 1, 0, 1, 1, 1, 0],\n",
            "        [0, 0, 1, 0, 1, 1, 1]])\n"
          ]
        }
      ]
    },
    {
      "cell_type": "code",
      "source": [
        "mask_size = code_n + code_pc_matrix.shape[0]\n",
        "print('mask_size값 :',mask_size)"
      ],
      "metadata": {
        "colab": {
          "base_uri": "https://localhost:8080/"
        },
        "id": "sRkO34-hO_N4",
        "outputId": "4875faf0-1a3b-4c27-8dba-492e8aebce4a"
      },
      "execution_count": 227,
      "outputs": [
        {
          "output_type": "stream",
          "name": "stdout",
          "text": [
            "mask_size값 : 10\n"
          ]
        }
      ]
    },
    {
      "cell_type": "code",
      "source": [
        "code_pc_matrix.shape[0]"
      ],
      "metadata": {
        "colab": {
          "base_uri": "https://localhost:8080/"
        },
        "id": "AsT5RwnbO3_L",
        "outputId": "09554f00-743b-4f2b-d457-6c0cd09693be"
      },
      "execution_count": 228,
      "outputs": [
        {
          "output_type": "execute_result",
          "data": {
            "text/plain": [
              "3"
            ]
          },
          "metadata": {},
          "execution_count": 228
        }
      ]
    },
    {
      "cell_type": "code",
      "source": [
        "mask = torch.eye(mask_size, mask_size)\n",
        "mask"
      ],
      "metadata": {
        "colab": {
          "base_uri": "https://localhost:8080/"
        },
        "id": "d6H1Xf8VPFXE",
        "outputId": "31894273-d73f-493e-cb51-bead07ade263"
      },
      "execution_count": 229,
      "outputs": [
        {
          "output_type": "execute_result",
          "data": {
            "text/plain": [
              "tensor([[1., 0., 0., 0., 0., 0., 0., 0., 0., 0.],\n",
              "        [0., 1., 0., 0., 0., 0., 0., 0., 0., 0.],\n",
              "        [0., 0., 1., 0., 0., 0., 0., 0., 0., 0.],\n",
              "        [0., 0., 0., 1., 0., 0., 0., 0., 0., 0.],\n",
              "        [0., 0., 0., 0., 1., 0., 0., 0., 0., 0.],\n",
              "        [0., 0., 0., 0., 0., 1., 0., 0., 0., 0.],\n",
              "        [0., 0., 0., 0., 0., 0., 1., 0., 0., 0.],\n",
              "        [0., 0., 0., 0., 0., 0., 0., 1., 0., 0.],\n",
              "        [0., 0., 0., 0., 0., 0., 0., 0., 1., 0.],\n",
              "        [0., 0., 0., 0., 0., 0., 0., 0., 0., 1.]])"
            ]
          },
          "metadata": {},
          "execution_count": 229
        }
      ]
    },
    {
      "cell_type": "code",
      "source": [
        "ii=0\n",
        "idx = torch.where(code_pc_matrix[ii] > 0)\n",
        "print('idx값',idx)"
      ],
      "metadata": {
        "colab": {
          "base_uri": "https://localhost:8080/"
        },
        "id": "TFY1qLUQPSEt",
        "outputId": "056ba9af-5cde-46d5-e7dc-fe766b45ae32"
      },
      "execution_count": 230,
      "outputs": [
        {
          "output_type": "stream",
          "name": "stdout",
          "text": [
            "idx값 (tensor([0, 2, 3, 4]),)\n"
          ]
        }
      ]
    },
    {
      "cell_type": "code",
      "source": [
        "for ii in range(code_pc_matrix.shape[0]):\n",
        "    idx = torch.where(code_pc_matrix[ii] > 0)[0]\n",
        "    for jj in idx:\n",
        "        for kk in idx:\n",
        "            if jj != kk:\n",
        "                mask[jj, kk] += 1\n",
        "                mask[kk, jj] += 1\n",
        "                mask[code_n + ii, jj] += 1\n",
        "                mask[jj, code_n + ii] += 1\n",
        "\n",
        "    src_mask = ~ (mask > 0).unsqueeze(0).unsqueeze(0)"
      ],
      "metadata": {
        "id": "dkfqM1xiNxrs"
      },
      "execution_count": 231,
      "outputs": []
    },
    {
      "cell_type": "code",
      "source": [
        "src_mask"
      ],
      "metadata": {
        "colab": {
          "base_uri": "https://localhost:8080/"
        },
        "id": "lR7RdLg9TGgw",
        "outputId": "f9628a4c-9ff2-4bc8-8984-e5ba11252316"
      },
      "execution_count": 232,
      "outputs": [
        {
          "output_type": "execute_result",
          "data": {
            "text/plain": [
              "tensor([[[[False,  True, False, False, False,  True,  True, False,  True,  True],\n",
              "          [ True, False,  True, False, False, False,  True,  True, False,  True],\n",
              "          [False,  True, False, False, False, False, False, False,  True, False],\n",
              "          [False, False, False, False, False, False,  True, False, False,  True],\n",
              "          [False, False, False, False, False, False, False, False, False, False],\n",
              "          [ True, False, False, False, False, False, False,  True, False, False],\n",
              "          [ True,  True, False,  True, False, False, False,  True,  True, False],\n",
              "          [False,  True, False, False, False,  True,  True, False,  True,  True],\n",
              "          [ True, False,  True, False, False, False,  True,  True, False,  True],\n",
              "          [ True,  True, False,  True, False, False, False,  True,  True, False]]]])"
            ]
          },
          "metadata": {},
          "execution_count": 232
        }
      ]
    },
    {
      "cell_type": "code",
      "source": [
        "src_mask.shape"
      ],
      "metadata": {
        "colab": {
          "base_uri": "https://localhost:8080/"
        },
        "id": "fA-inq50T3C-",
        "outputId": "56a0db80-af78-4a69-fc7c-c114495a5ce5"
      },
      "execution_count": 233,
      "outputs": [
        {
          "output_type": "execute_result",
          "data": {
            "text/plain": [
              "torch.Size([1, 1, 10, 10])"
            ]
          },
          "metadata": {},
          "execution_count": 233
        }
      ]
    },
    {
      "cell_type": "code",
      "source": [
        "mask"
      ],
      "metadata": {
        "colab": {
          "base_uri": "https://localhost:8080/"
        },
        "id": "xhtGvGrBNnm3",
        "outputId": "14b5cb43-3c29-4f1c-8075-1c1f4e48efa3"
      },
      "execution_count": 234,
      "outputs": [
        {
          "output_type": "execute_result",
          "data": {
            "text/plain": [
              "tensor([[1., 0., 2., 2., 2., 0., 0., 3., 0., 0.],\n",
              "        [0., 1., 0., 2., 2., 2., 0., 0., 3., 0.],\n",
              "        [2., 0., 1., 2., 4., 2., 2., 3., 0., 3.],\n",
              "        [2., 2., 2., 1., 4., 2., 0., 3., 3., 0.],\n",
              "        [2., 2., 4., 4., 1., 4., 2., 3., 3., 3.],\n",
              "        [0., 2., 2., 2., 4., 1., 2., 0., 3., 3.],\n",
              "        [0., 0., 2., 0., 2., 2., 1., 0., 0., 3.],\n",
              "        [3., 0., 3., 3., 3., 0., 0., 1., 0., 0.],\n",
              "        [0., 3., 0., 3., 3., 3., 0., 0., 1., 0.],\n",
              "        [0., 0., 3., 0., 3., 3., 3., 0., 0., 1.]])"
            ]
          },
          "metadata": {},
          "execution_count": 234
        }
      ]
    },
    {
      "cell_type": "code",
      "source": [
        "mask=mask%2\n",
        "pyplot.figure(figsize=(10,10))\n",
        "pyplot.imshow(mask)\n",
        "pyplot.show()"
      ],
      "metadata": {
        "colab": {
          "base_uri": "https://localhost:8080/",
          "height": 592
        },
        "id": "uFH-22pqQKHJ",
        "outputId": "3c901830-c995-4fdb-a621-963805cb7709"
      },
      "execution_count": 235,
      "outputs": [
        {
          "output_type": "display_data",
          "data": {
            "text/plain": [
              "<Figure size 720x720 with 1 Axes>"
            ],
            "image/png": "[encoded data removed]"
          },
          "metadata": {
            "needs_background": "light"
          }
        }
      ]
    },
    {
      "cell_type": "code",
      "source": [
        "src_mask = ~ (mask > 0).unsqueeze(0)\n",
        "src_mask"
      ],
      "metadata": {
        "colab": {
          "base_uri": "https://localhost:8080/"
        },
        "id": "RjsbZOaQTBKw",
        "outputId": "2411631d-de11-4a53-8a2c-99145042f77f"
      },
      "execution_count": 236,
      "outputs": [
        {
          "output_type": "execute_result",
          "data": {
            "text/plain": [
              "tensor([[[False,  True,  True,  True,  True,  True,  True, False,  True,  True],\n",
              "         [ True, False,  True,  True,  True,  True,  True,  True, False,  True],\n",
              "         [ True,  True, False,  True,  True,  True,  True, False,  True, False],\n",
              "         [ True,  True,  True, False,  True,  True,  True, False, False,  True],\n",
              "         [ True,  True,  True,  True, False,  True,  True, False, False, False],\n",
              "         [ True,  True,  True,  True,  True, False,  True,  True, False, False],\n",
              "         [ True,  True,  True,  True,  True,  True, False,  True,  True, False],\n",
              "         [False,  True, False, False, False,  True,  True, False,  True,  True],\n",
              "         [ True, False,  True, False, False, False,  True,  True, False,  True],\n",
              "         [ True,  True, False,  True, False, False, False,  True,  True, False]]])"
            ]
          },
          "metadata": {},
          "execution_count": 236
        }
      ]
    },
    {
      "cell_type": "code",
      "source": [
        "src_mask.shape"
      ],
      "metadata": {
        "colab": {
          "base_uri": "https://localhost:8080/"
        },
        "id": "09bRh7q4UCUh",
        "outputId": "2788a0aa-9a75-46a7-acee-3bf29d594d73"
      },
      "execution_count": 237,
      "outputs": [
        {
          "output_type": "execute_result",
          "data": {
            "text/plain": [
              "torch.Size([1, 10, 10])"
            ]
          },
          "metadata": {},
          "execution_count": 237
        }
      ]
    },
    {
      "cell_type": "code",
      "source": [
        "src_mask.shape\n",
        "print(src_mask.long())"
      ],
      "metadata": {
        "colab": {
          "base_uri": "https://localhost:8080/"
        },
        "id": "sTo1AtitQrvJ",
        "outputId": "8c6bb68d-d834-4958-dfa0-2941dfd8914e"
      },
      "execution_count": 238,
      "outputs": [
        {
          "output_type": "stream",
          "name": "stdout",
          "text": [
            "tensor([[[0, 1, 1, 1, 1, 1, 1, 0, 1, 1],\n",
            "         [1, 0, 1, 1, 1, 1, 1, 1, 0, 1],\n",
            "         [1, 1, 0, 1, 1, 1, 1, 0, 1, 0],\n",
            "         [1, 1, 1, 0, 1, 1, 1, 0, 0, 1],\n",
            "         [1, 1, 1, 1, 0, 1, 1, 0, 0, 0],\n",
            "         [1, 1, 1, 1, 1, 0, 1, 1, 0, 0],\n",
            "         [1, 1, 1, 1, 1, 1, 0, 1, 1, 0],\n",
            "         [0, 1, 0, 0, 0, 1, 1, 0, 1, 1],\n",
            "         [1, 0, 1, 0, 0, 0, 1, 1, 0, 1],\n",
            "         [1, 1, 0, 1, 0, 0, 0, 1, 1, 0]]])\n"
          ]
        }
      ]
    },
    {
      "cell_type": "code",
      "source": [
        "src_mask2=([0, 1, 0, 0, 0, 1, 1, 0, 1, 1],\n",
        "          [1, 0, 1, 0, 0, 0, 1, 1, 0, 1],\n",
        "          [0, 1, 0, 0, 0, 0, 0, 0, 1, 0],\n",
        "          [0, 0, 0, 0, 0, 0, 1, 0, 0, 1],\n",
        "          [0, 0, 0, 0, 0, 0, 0, 0, 0, 0],\n",
        "          [1, 0, 0, 0, 0, 0, 0, 1, 0, 0],\n",
        "          [1, 1, 0, 1, 0, 0, 0, 1, 1, 0],\n",
        "          [0, 1, 0, 0, 0, 1, 1, 0, 1, 1],\n",
        "          [1, 0, 1, 0, 0, 0, 1, 1, 0, 1],\n",
        "          [1, 1, 0, 1, 0, 0, 0, 1, 1, 0])"
      ],
      "metadata": {
        "id": "s0CmD03hSVRN"
      },
      "execution_count": 239,
      "outputs": []
    },
    {
      "cell_type": "code",
      "source": [
        "pyplot.figure(figsize=(10,10))\n",
        "pyplot.imshow(src_mask2)\n",
        "pyplot.show()"
      ],
      "metadata": {
        "colab": {
          "base_uri": "https://localhost:8080/",
          "height": 592
        },
        "id": "Q-EbFZnlSE8x",
        "outputId": "9e448d12-5cad-44b6-f16a-986996b0d2ac"
      },
      "execution_count": 240,
      "outputs": [
        {
          "output_type": "display_data",
          "data": {
            "text/plain": [
              "<Figure size 720x720 with 1 Axes>"
            ],
            "image/png": "[encoded data removed]"
          },
          "metadata": {
            "needs_background": "light"
          }
        }
      ]
    }
  ]
}
