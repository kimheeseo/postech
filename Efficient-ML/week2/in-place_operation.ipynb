{
  "nbformat": 4,
  "nbformat_minor": 0,
  "metadata": {
    "colab": {
      "provenance": [],
      "authorship_tag": "ABX9TyOmjLxWhHeeKxgmWwGk9twe",
      "include_colab_link": true
    },
    "kernelspec": {
      "name": "python3",
      "display_name": "Python 3"
    },
    "language_info": {
      "name": "python"
    }
  },
  "cells": [
    {
      "cell_type": "markdown",
      "metadata": {
        "id": "view-in-github",
        "colab_type": "text"
      },
      "source": [
        "<a href=\"https://colab.research.google.com/github/kimheeseo/2022_Efficient-ML/blob/main/in-place_operation.ipynb\" target=\"_parent\"><img src=\"https://colab.research.google.com/assets/colab-badge.svg\" alt=\"Open In Colab\"/></a>"
      ]
    },
    {
      "cell_type": "code",
      "source": [
        "출처 : https://intrepidgeeks.com/tutorial/let-me-explain-the-meaning-of-inplace-operation-in-pytorch"
      ],
      "metadata": {
        "id": "hLqMmjlOHlqh"
      },
      "execution_count": null,
      "outputs": []
    },
    {
      "cell_type": "code",
      "execution_count": 5,
      "metadata": {
        "colab": {
          "base_uri": "https://localhost:8080/"
        },
        "id": "eBH8mf8JGm8Z",
        "outputId": "da82daf1-dc08-402b-8535-de90d2f51990"
      },
      "outputs": [
        {
          "output_type": "stream",
          "name": "stdout",
          "text": [
            "tensor([0.9965, 0.9818])\n"
          ]
        }
      ],
      "source": [
        "import torch\n",
        "x=torch.rand(2)\n",
        "print(x)"
      ]
    },
    {
      "cell_type": "code",
      "source": [
        "y=torch.rand(2)\n",
        "y"
      ],
      "metadata": {
        "colab": {
          "base_uri": "https://localhost:8080/"
        },
        "id": "d8GEoGIyGrEL",
        "outputId": "315fdfaf-8a4c-438a-ea82-8d75cb0d4723"
      },
      "execution_count": 6,
      "outputs": [
        {
          "output_type": "execute_result",
          "data": {
            "text/plain": [
              "tensor([0.1917, 0.2594])"
            ]
          },
          "metadata": {},
          "execution_count": 6
        }
      ]
    },
    {
      "cell_type": "code",
      "source": [
        "x.add_(y)\n",
        "print(x) "
      ],
      "metadata": {
        "colab": {
          "base_uri": "https://localhost:8080/"
        },
        "id": "eQXJ-6yrGsdi",
        "outputId": "f95112ea-0071-4468-b0a0-23999e35228c"
      },
      "execution_count": 7,
      "outputs": [
        {
          "output_type": "stream",
          "name": "stdout",
          "text": [
            "tensor([1.1882, 1.2412])\n"
          ]
        }
      ]
    },
    {
      "cell_type": "code",
      "source": [
        "#0.9965+0.1917=1.1882\n",
        "#0.9818+0.2594=1.2412\n",
        "\n",
        "#x값 (0.9965 0.9818) -> (1.1882,1.2412)\n",
        "\n",
        "#제자리 조작 부호 = in-place operation은 pytorch 에서 tensor의 값을 바꿀때\n",
        "#복사 작업을 거치지 않고 원래 메모리에서 값을 직접 바꾸는것을 말한다. "
      ],
      "metadata": {
        "id": "zK3ydIa7G10D"
      },
      "execution_count": null,
      "outputs": []
    },
    {
      "cell_type": "code",
      "source": [
        "x+y"
      ],
      "metadata": {
        "colab": {
          "base_uri": "https://localhost:8080/"
        },
        "id": "dRhzdUA9HICo",
        "outputId": "ff07948c-7ee2-4519-a73f-c6326dbf3984"
      },
      "execution_count": 9,
      "outputs": [
        {
          "output_type": "execute_result",
          "data": {
            "text/plain": [
              "tensor([1.3800, 1.5005])"
            ]
          },
          "metadata": {},
          "execution_count": 9
        }
      ]
    }
  ]
}
